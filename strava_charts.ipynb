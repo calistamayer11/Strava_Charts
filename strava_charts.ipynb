{
 "cells": [
  {
   "cell_type": "code",
   "execution_count": 1,
   "metadata": {},
   "outputs": [
    {
     "name": "stdout",
     "output_type": "stream",
     "text": [
      "Requirement already satisfied: matplotlib in /Users/calistamayer/.pyenv/versions/3.10.5/lib/python3.10/site-packages (3.6.3)\n",
      "Requirement already satisfied: pandas in /Users/calistamayer/.pyenv/versions/3.10.5/lib/python3.10/site-packages (1.5.2)\n",
      "Requirement already satisfied: numpy>=1.19 in /Users/calistamayer/.pyenv/versions/3.10.5/lib/python3.10/site-packages (from matplotlib) (1.24.1)\n",
      "Requirement already satisfied: kiwisolver>=1.0.1 in /Users/calistamayer/.pyenv/versions/3.10.5/lib/python3.10/site-packages (from matplotlib) (1.4.4)\n",
      "Requirement already satisfied: packaging>=20.0 in /Users/calistamayer/.pyenv/versions/3.10.5/lib/python3.10/site-packages (from matplotlib) (23.0)\n",
      "Requirement already satisfied: cycler>=0.10 in /Users/calistamayer/.pyenv/versions/3.10.5/lib/python3.10/site-packages (from matplotlib) (0.11.0)\n",
      "Requirement already satisfied: python-dateutil>=2.7 in /Users/calistamayer/.pyenv/versions/3.10.5/lib/python3.10/site-packages (from matplotlib) (2.8.2)\n",
      "Requirement already satisfied: contourpy>=1.0.1 in /Users/calistamayer/.pyenv/versions/3.10.5/lib/python3.10/site-packages (from matplotlib) (1.0.6)\n",
      "Requirement already satisfied: pyparsing>=2.2.1 in /Users/calistamayer/.pyenv/versions/3.10.5/lib/python3.10/site-packages (from matplotlib) (3.0.9)\n",
      "Requirement already satisfied: fonttools>=4.22.0 in /Users/calistamayer/.pyenv/versions/3.10.5/lib/python3.10/site-packages (from matplotlib) (4.38.0)\n",
      "Requirement already satisfied: pillow>=6.2.0 in /Users/calistamayer/.pyenv/versions/3.10.5/lib/python3.10/site-packages (from matplotlib) (9.4.0)\n",
      "Requirement already satisfied: pytz>=2020.1 in /Users/calistamayer/.pyenv/versions/3.10.5/lib/python3.10/site-packages (from pandas) (2022.7)\n",
      "Requirement already satisfied: six>=1.5 in /Users/calistamayer/.pyenv/versions/3.10.5/lib/python3.10/site-packages (from python-dateutil>=2.7->matplotlib) (1.16.0)\n",
      "\u001b[33mWARNING: You are using pip version 22.0.4; however, version 22.3.1 is available.\n",
      "You should consider upgrading via the '/Users/calistamayer/.pyenv/versions/3.10.5/bin/python -m pip install --upgrade pip' command.\u001b[0m\u001b[33m\n",
      "\u001b[0mNote: you may need to restart the kernel to use updated packages.\n"
     ]
    }
   ],
   "source": [
    "%pip install matplotlib pandas\n"
   ]
  },
  {
   "cell_type": "code",
   "execution_count": null,
   "metadata": {},
   "outputs": [],
   "source": [
    "import json\n",
    "import matplotlib.pyplot as plt\n",
    "import pandas as pd\n",
    "\n",
    "\n",
    "with open(\"response_1673562474836.json\") as file:\n",
    "  data = json.load(file)\n",
    "\n",
    "minutes = []\n",
    "day_of_week = []\n",
    "for minute in data: \n",
    "  # minute.get(\"moving_time\")\n",
    "  # minutes.insert(0, minute.get(\"moving_time\"))\n",
    "  date_str = minute.get(\"start_date\")[0:10]\n",
    "  day = pd.Timestamp(date_str).day_name()\n",
    "  day_of_week.insert(0, f'{day} {date_str}')\n",
    "  in_seconds = minute.get(\"moving_time\")\n",
    "  in_minutes = in_seconds / 60\n",
    "  minutes.insert(0, in_minutes)\n",
    "print(day_of_week)\n",
    "print(minutes)\n",
    "\n",
    "# print(\"what is this??\", list(range(len(runs))))\n",
    "# x = list(range(len(runs)))\n",
    "plt.bar(day_of_week, minutes)\n",
    "plt.gcf().set_size_inches(18.5, 10.5)\n",
    "plt.xticks(rotation=45, ha='right')\n",
    "plt.ylabel(\"Minutes\")\n",
    "plt.xlabel(\"Date\")\n",
    "plt.title('Minutes Spent Running')\n",
    "plt.show()"
   ]
  },
  {
   "cell_type": "code",
   "execution_count": null,
   "metadata": {},
   "outputs": [],
   "source": [
    "import json\n",
    "import matplotlib.pyplot as plt\n",
    "import pandas as pd\n",
    "\n",
    "\n",
    "with open(\"response_1673562474836.json\") as file:\n",
    "  data = json.load(file)\n",
    "runs = []\n",
    "day_of_week = []\n",
    "for run in data: \n",
    " # run.get(\"distance\")\n",
    "  # runs.insert(0, run.get(\"distance\"))\n",
    "  date_str = run.get(\"start_date\")[0:10]\n",
    "  day = pd.Timestamp(date_str).day_name()\n",
    "  day_of_week.insert(0, f'{day} {date_str}')\n",
    "  in_meters = run.get(\"distance\")\n",
    "  in_miles = in_meters * 0.0006213712\n",
    "  runs.insert(0, in_miles)\n",
    "print(day_of_week)\n",
    "print(runs)\n",
    "\n",
    "# print(\"what is this??\", list(range(len(runs))))\n",
    "# x = list(range(len(runs)))\n",
    "plt.bar(day_of_week, runs)\n",
    "plt.gcf().set_size_inches(18.5, 10.5)\n",
    "plt.xticks(rotation=45, ha='right')\n",
    "plt.ylabel(\"Miles\")\n",
    "plt.xlabel(\"Date\")\n",
    "plt.title('Miles Per Day')\n",
    "plt.show()\n"
   ]
  },
  {
   "cell_type": "code",
   "execution_count": 10,
   "metadata": {},
   "outputs": [
    {
     "name": "stdout",
     "output_type": "stream",
     "text": [
      "Requirement already satisfied: seaborn in /Users/calistamayer/.pyenv/versions/3.10.5/lib/python3.10/site-packages (0.12.2)\n",
      "Requirement already satisfied: matplotlib!=3.6.1,>=3.1 in /Users/calistamayer/.pyenv/versions/3.10.5/lib/python3.10/site-packages (from seaborn) (3.6.3)\n",
      "Requirement already satisfied: pandas>=0.25 in /Users/calistamayer/.pyenv/versions/3.10.5/lib/python3.10/site-packages (from seaborn) (1.5.2)\n",
      "Requirement already satisfied: numpy!=1.24.0,>=1.17 in /Users/calistamayer/.pyenv/versions/3.10.5/lib/python3.10/site-packages (from seaborn) (1.24.1)\n",
      "Requirement already satisfied: kiwisolver>=1.0.1 in /Users/calistamayer/.pyenv/versions/3.10.5/lib/python3.10/site-packages (from matplotlib!=3.6.1,>=3.1->seaborn) (1.4.4)\n",
      "Requirement already satisfied: pyparsing>=2.2.1 in /Users/calistamayer/.pyenv/versions/3.10.5/lib/python3.10/site-packages (from matplotlib!=3.6.1,>=3.1->seaborn) (3.0.9)\n",
      "Requirement already satisfied: packaging>=20.0 in /Users/calistamayer/.pyenv/versions/3.10.5/lib/python3.10/site-packages (from matplotlib!=3.6.1,>=3.1->seaborn) (23.0)\n",
      "Requirement already satisfied: cycler>=0.10 in /Users/calistamayer/.pyenv/versions/3.10.5/lib/python3.10/site-packages (from matplotlib!=3.6.1,>=3.1->seaborn) (0.11.0)\n",
      "Requirement already satisfied: fonttools>=4.22.0 in /Users/calistamayer/.pyenv/versions/3.10.5/lib/python3.10/site-packages (from matplotlib!=3.6.1,>=3.1->seaborn) (4.38.0)\n",
      "Requirement already satisfied: python-dateutil>=2.7 in /Users/calistamayer/.pyenv/versions/3.10.5/lib/python3.10/site-packages (from matplotlib!=3.6.1,>=3.1->seaborn) (2.8.2)\n",
      "Requirement already satisfied: pillow>=6.2.0 in /Users/calistamayer/.pyenv/versions/3.10.5/lib/python3.10/site-packages (from matplotlib!=3.6.1,>=3.1->seaborn) (9.4.0)\n",
      "Requirement already satisfied: contourpy>=1.0.1 in /Users/calistamayer/.pyenv/versions/3.10.5/lib/python3.10/site-packages (from matplotlib!=3.6.1,>=3.1->seaborn) (1.0.6)\n",
      "Requirement already satisfied: pytz>=2020.1 in /Users/calistamayer/.pyenv/versions/3.10.5/lib/python3.10/site-packages (from pandas>=0.25->seaborn) (2022.7)\n",
      "Requirement already satisfied: six>=1.5 in /Users/calistamayer/.pyenv/versions/3.10.5/lib/python3.10/site-packages (from python-dateutil>=2.7->matplotlib!=3.6.1,>=3.1->seaborn) (1.16.0)\n",
      "\u001b[33mWARNING: You are using pip version 22.0.4; however, version 22.3.1 is available.\n",
      "You should consider upgrading via the '/Users/calistamayer/.pyenv/versions/3.10.5/bin/python -m pip install --upgrade pip' command.\u001b[0m\u001b[33m\n",
      "\u001b[0mNote: you may need to restart the kernel to use updated packages.\n",
      "Requirement already satisfied: numpy in /Users/calistamayer/.pyenv/versions/3.10.5/lib/python3.10/site-packages (1.24.1)\n",
      "\u001b[33mWARNING: You are using pip version 22.0.4; however, version 22.3.1 is available.\n",
      "You should consider upgrading via the '/Users/calistamayer/.pyenv/versions/3.10.5/bin/python -m pip install --upgrade pip' command.\u001b[0m\u001b[33m\n",
      "\u001b[0mNote: you may need to restart the kernel to use updated packages.\n"
     ]
    }
   ],
   "source": [
    "%pip install seaborn\n",
    "%pip install numpy\n",
    "\n"
   ]
  },
  {
   "cell_type": "code",
   "execution_count": null,
   "metadata": {},
   "outputs": [],
   "source": []
  },
  {
   "cell_type": "code",
   "execution_count": 19,
   "metadata": {},
   "outputs": [
    {
     "data": {
      "image/png": "[encoded data removed]",
      "text/plain": [
       "<Figure size 640x480 with 1 Axes>"
      ]
     },
     "metadata": {},
     "output_type": "display_data"
    }
   ],
   "source": [
    "import matplotlib.pyplot as plt\n",
    "import json\n",
    "import numpy as np\n",
    "\n",
    "\n",
    "labels = ['2019', '2020', '2021', '2022']\n",
    "def get_runs(json_string):\n",
    "    runs = []\n",
    "    with open(json_string) as file:\n",
    "        data = json.load(file)\n",
    "    for run in data:\n",
    "        if run.get(\"type\") == \"Run\":\n",
    "            in_meters = run.get('distance')\n",
    "            in_miles = in_meters * 0.0006213712\n",
    "            runs.insert(0, in_miles)\n",
    "    return runs\n",
    "\n",
    "# print(runs)\n",
    "\n",
    "data_2022 = get_runs(\"2022.json\")\n",
    "data_2021 = get_runs(\"2021.json\")\n",
    "data_2020 = get_runs(\"2020.json\")\n",
    "data_2019 = get_runs(\"2019.json\")\n",
    "\n",
    "data = [data_2022, data_2021, data_2020, data_2019]\n",
    "# print(data_2019)\n",
    "\n",
    "# npruns = np.array(runs)\n",
    "plt.boxplot(data)\n",
    "plt.xticks([1, 2, 3, 4], ['2022', '2021', '2020', '2019'])\n",
    "plt.xlabel('Years')\n",
    "plt.ylabel('Miles')\n",
    "plt.title('Average Run Distance')\n",
    "plt.show()\n",
    "\n",
    "\n",
    "\n"
   ]
  }
 ],
 "metadata": {
  "kernelspec": {
   "display_name": "Python 3",
   "language": "python",
   "name": "python3"
  },
  "language_info": {
   "codemirror_mode": {
    "name": "ipython",
    "version": 3
   },
   "file_extension": ".py",
   "mimetype": "text/x-python",
   "name": "python",
   "nbconvert_exporter": "python",
   "pygments_lexer": "ipython3",
   "version": "3.10.5"
  },
  "orig_nbformat": 4,
  "vscode": {
   "interpreter": {
    "hash": "dc89b08c8f2a7530e357e3acf7b0258e39a61f599f473b0cfb208430d1b221ed"
   }
  }
 },
 "nbformat": 4,
 "nbformat_minor": 2
}
